{
 "cells": [
  {
   "cell_type": "code",
   "execution_count": 52,
   "metadata": {},
   "outputs": [],
   "source": [
    "import pandas as pd"
   ]
  },
  {
   "cell_type": "code",
   "execution_count": 72,
   "metadata": {},
   "outputs": [],
   "source": [
    "year = 2012\n",
    "stats = pd.read_csv(f'{year}.csv')\n",
    "stats = stats.dropna()\n",
    "stats = stats[~stats['Pos Summary'].str.contains('1')]\n",
    "stats['Tm'] = stats['Tm'].str.replace('TOT', 'MULTIPLE')\n",
    "stats = stats[~stats['Name-additional'].duplicated()]\n",
    "stats['Season'] = year\n",
    "year += 1"
   ]
  },
  {
   "cell_type": "code",
   "execution_count": 73,
   "metadata": {},
   "outputs": [],
   "source": [
    "while year < 2024:\n",
    "    tmp = pd.read_csv(f'{year}.csv')\n",
    "    tmp = tmp.dropna()\n",
    "    tmp = tmp[~tmp['Pos Summary'].str.contains('1')]\n",
    "    tmp['Tm'] = tmp['Tm'].str.replace('TOT', 'MULTIPLE')\n",
    "    tmp = tmp[~tmp['Name-additional'].duplicated()]\n",
    "    tmp['Season'] = year\n",
    "    stats = pd.concat([stats, tmp])\n",
    "    year += 1"
   ]
  },
  {
   "cell_type": "code",
   "execution_count": 76,
   "metadata": {},
   "outputs": [],
   "source": [
    "stats = stats.drop(['Rk'], axis = 1)"
   ]
  }
 ],
 "metadata": {
  "kernelspec": {
   "display_name": "pythonEnv",
   "language": "python",
   "name": "python3"
  },
  "language_info": {
   "codemirror_mode": {
    "name": "ipython",
    "version": 3
   },
   "file_extension": ".py",
   "mimetype": "text/x-python",
   "name": "python",
   "nbconvert_exporter": "python",
   "pygments_lexer": "ipython3",
   "version": "3.11.7"
  },
  "orig_nbformat": 4
 },
 "nbformat": 4,
 "nbformat_minor": 2
}
