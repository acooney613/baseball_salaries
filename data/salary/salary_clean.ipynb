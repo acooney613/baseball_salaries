{
 "cells": [
  {
   "cell_type": "code",
   "execution_count": 5,
   "metadata": {},
   "outputs": [],
   "source": [
    "import pandas as pd"
   ]
  },
  {
   "cell_type": "code",
   "execution_count": 2,
   "metadata": {},
   "outputs": [],
   "source": [
    "year = 2010\n",
    "salary = pd.read_csv(f'{year}.csv').dropna()\n",
    "salary['Season'] = year\n",
    "year += 1\n",
    "while year < 2024:\n",
    "    tmp = pd.read_csv(f'{year}.csv').dropna()\n",
    "    tmp['Season'] = year\n",
    "    salary = pd.concat([salary, tmp])\n",
    "    year += 1\n"
   ]
  },
  {
   "cell_type": "code",
   "execution_count": 3,
   "metadata": {},
   "outputs": [],
   "source": [
    "salary = salary[['Name', 'Age', 'Tm', 'RAA', 'WAA', 'RAR', 'WAR', 'Salary', 'Acquired', 'Season', 'Name-additional']]"
   ]
  },
  {
   "cell_type": "code",
   "execution_count": 4,
   "metadata": {},
   "outputs": [],
   "source": [
    "salary.to_csv('salary.csv', index = False)"
   ]
  }
 ],
 "metadata": {
  "kernelspec": {
   "display_name": "pythonEnv",
   "language": "python",
   "name": "python3"
  },
  "language_info": {
   "codemirror_mode": {
    "name": "ipython",
    "version": 3
   },
   "file_extension": ".py",
   "mimetype": "text/x-python",
   "name": "python",
   "nbconvert_exporter": "python",
   "pygments_lexer": "ipython3",
   "version": "3.11.8"
  },
  "orig_nbformat": 4
 },
 "nbformat": 4,
 "nbformat_minor": 2
}
