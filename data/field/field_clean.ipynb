{
 "cells": [
  {
   "cell_type": "code",
   "execution_count": 2,
   "metadata": {},
   "outputs": [],
   "source": [
    "import pandas as pd\n"
   ]
  },
  {
   "cell_type": "code",
   "execution_count": 3,
   "metadata": {},
   "outputs": [],
   "source": [
    "df = pd.read_csv('2012.csv')"
   ]
  },
  {
   "cell_type": "code",
   "execution_count": 4,
   "metadata": {},
   "outputs": [],
   "source": [
    "df = df.dropna()\n",
    "df['Position'] = df['Pos Summary']"
   ]
  },
  {
   "cell_type": "code",
   "execution_count": 18,
   "metadata": {},
   "outputs": [],
   "source": [
    "year = 2012\n",
    "df = pd.read_csv(f'{year}.csv')\n",
    "field = df.dropna()\n",
    "field = field[~field['Pos Summary'].str.contains('P')]\n",
    "field['Tm'] = field['Tm'].str.replace('TOT', 'MULTIPLE')\n",
    "field['Lg'] = field['Lg'].str.replace('ZZ', 'MLB')\n",
    "field['Season'] = year\n",
    "year += 1\n",
    "while year < 2024:\n",
    "    tmp = pd.read_csv(f'{year}.csv')\n",
    "    tmp = tmp.dropna()\n",
    "    tmp = tmp[~tmp['Pos Summary'].str.contains('P')]\n",
    "    tmp['Tm'] = tmp['Tm'].str.replace('TOT', 'MULTIPLE')\n",
    "    tmp['Lg'] = tmp['Lg'].str.replace('ZZ', 'MLB')\n",
    "    tmp['Season'] = year\n",
    "    field = pd.concat([field, tmp])\n",
    "    year += 1"
   ]
  },
  {
   "cell_type": "code",
   "execution_count": 19,
   "metadata": {},
   "outputs": [],
   "source": [
    "field = field[['Name', 'Age', 'Tm', 'Lg', 'G', 'GS', 'CG', 'Inn', 'PO', 'A', 'E', 'DP', 'Fld%',\n",
    "               'Rdrs', 'Pos Summary', 'Season', 'Name-additional']]\n",
    "\n",
    "field = field.rename(columns = {'Pos Summary' : 'Position'})"
   ]
  },
  {
   "cell_type": "code",
   "execution_count": 20,
   "metadata": {},
   "outputs": [],
   "source": [
    "field.to_csv('field.csv', index = False)"
   ]
  }
 ],
 "metadata": {
  "kernelspec": {
   "display_name": "pythonEnv",
   "language": "python",
   "name": "python3"
  },
  "language_info": {
   "codemirror_mode": {
    "name": "ipython",
    "version": 3
   },
   "file_extension": ".py",
   "mimetype": "text/x-python",
   "name": "python",
   "nbconvert_exporter": "python",
   "pygments_lexer": "ipython3",
   "version": "3.11.8"
  },
  "orig_nbformat": 4
 },
 "nbformat": 4,
 "nbformat_minor": 2
}
